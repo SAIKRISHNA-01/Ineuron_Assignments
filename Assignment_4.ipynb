{
 "cells": [
  {
   "cell_type": "code",
   "execution_count": 11,
   "id": "8c6d9272",
   "metadata": {},
   "outputs": [
    {
     "name": "stdout",
     "output_type": "stream",
     "text": [
      "3\n",
      "4\n",
      "6\n",
      "Initialised Utils Child class\n",
      "Initialised Triagle super class [3,4,6]\n",
      "6.5\n",
      "Area of triangle = 5.332682251925386\n"
     ]
    }
   ],
   "source": [
    "'''1.1 Write a Python Program(with class concepts) to find the area of the triangle using the below\n",
    "formula.\n",
    "area = (s*(s-a)*(s-b)*(s-c)) ** 0.5\n",
    "Function to take the length of the sides of triangle from user should be defined in the parent\n",
    "class and function to calculate the area should be defined in subclass.'''\n",
    "\n",
    "\n",
    "class Triangle:\n",
    " def __init__(self, side1, side2, side3):\n",
    "  self.side1 = side1\n",
    "  self.side2 = side2\n",
    "  self.side3 = side3\n",
    "  print (\"Initialised Triagle super class [\" +  str(side1) + \",\" + str(side2) + \",\" + str(side3) + \"]\")\n",
    "\n",
    "class Triangle_Utilities(Triangle):\n",
    " \n",
    " def __init__(self, side1, side2, side3):\n",
    "  print (\"Initialised Utils Child class\" )\n",
    "  super(Triangle_Utilities, self).__init__(side1, side2, side3)\n",
    "\n",
    " def get_area(self):\n",
    "  s = (self.side1 + self.side2 + self.side3)/2\n",
    "  print (str(s))\n",
    "  return (s*(s-self.side1)*(s-self.side2)*(s-self.side3))**0.5\n",
    "\n",
    "\n",
    "a=int(input())\n",
    "b=int(input())\n",
    "c=int(input())\n",
    "instance = Triangle_Utilities(a,b,c)\n",
    "print (\"Area of triangle = \" + str(instance.get_area()))"
   ]
  },
  {
   "cell_type": "code",
   "execution_count": 8,
   "id": "f18d2701",
   "metadata": {},
   "outputs": [
    {
     "name": "stdout",
     "output_type": "stream",
     "text": [
      "sai gopal paramesh shreyas\n",
      "5\n",
      "['paramesh', 'shreyas']\n"
     ]
    }
   ],
   "source": [
    "'''1.2 Write a function filter_long_words() that takes a list of words and an integer n and returns\n",
    "the list of words that are longer than n.'''\n",
    "\n",
    "\n",
    "def filter_long_words(str,n):\n",
    "    word_len = []\n",
    "    txt = str.split(\" \")\n",
    "    for x in txt:\n",
    "        if len(x) > n:\n",
    "            word_len.append(x)\n",
    "    return word_len\t\n",
    "\n",
    "string= input()\n",
    "n=int(input())\n",
    "print(filter_long_words(string,n))"
   ]
  },
  {
   "cell_type": "code",
   "execution_count": 3,
   "id": "753bbf41",
   "metadata": {},
   "outputs": [
    {
     "name": "stdout",
     "output_type": "stream",
     "text": [
      "List of Word: sai krishna gopal\n",
      "List of wordlength:[3, 7, 5]\n"
     ]
    }
   ],
   "source": [
    "'''2.1 Write a Python program using function concept that maps list of words into a list of integers\n",
    "representing the lengths of the corresponding words.\n",
    "Hint: If a list [ ab,cde,erty] is passed on to the python function output should come as [2,3,4]\n",
    "Here 2,3 and 4 are the lengths of the words in the list.'''\n",
    "\n",
    "\n",
    "listOfWords = input('List of Word: ').split() \n",
    "listOfInts = []\n",
    " \n",
    "for i in range(len(listOfWords)):\n",
    "    listOfInts.append(len(listOfWords[i]))\n",
    "     \n",
    "print (\"List of wordlength:\"+str(listOfInts))\n",
    "\n"
   ]
  },
  {
   "cell_type": "code",
   "execution_count": 5,
   "id": "d93aa17d",
   "metadata": {},
   "outputs": [
    {
     "name": "stdout",
     "output_type": "stream",
     "text": [
      "r\n",
      "False\n"
     ]
    }
   ],
   "source": [
    "'''2.2 Write a Python function which takes a character (i.e. a string of length 1) and returns True if\n",
    "it is a vowel, False otherwise.'''\n",
    "\n",
    "\n",
    "def is_vowel(char):\n",
    "    all_vowels = 'aeiou'\n",
    "    return char in all_vowels\n",
    "\n",
    "a= input()\n",
    "print(is_vowel(a))"
   ]
  },
  {
   "cell_type": "code",
   "execution_count": null,
   "id": "b3bb4c2c",
   "metadata": {},
   "outputs": [],
   "source": []
  }
 ],
 "metadata": {
  "kernelspec": {
   "display_name": "Python 3",
   "language": "python",
   "name": "python3"
  },
  "language_info": {
   "codemirror_mode": {
    "name": "ipython",
    "version": 3
   },
   "file_extension": ".py",
   "mimetype": "text/x-python",
   "name": "python",
   "nbconvert_exporter": "python",
   "pygments_lexer": "ipython3",
   "version": "3.8.8"
  }
 },
 "nbformat": 4,
 "nbformat_minor": 5
}
